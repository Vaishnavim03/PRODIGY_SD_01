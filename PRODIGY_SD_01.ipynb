{
  "nbformat": 4,
  "nbformat_minor": 0,
  "metadata": {
    "colab": {
      "provenance": [],
      "authorship_tag": "ABX9TyM6rajgcHT46WOZ7EaK90tj",
      "include_colab_link": true
    },
    "kernelspec": {
      "name": "python3",
      "display_name": "Python 3"
    },
    "language_info": {
      "name": "python"
    }
  },
  "cells": [
    {
      "cell_type": "markdown",
      "metadata": {
        "id": "view-in-github",
        "colab_type": "text"
      },
      "source": [
        "<a href=\"https://colab.research.google.com/github/Vaishnavim03/PRODIGY_SD_01/blob/main/PRODIGY_SD_01.ipynb\" target=\"_parent\"><img src=\"https://colab.research.google.com/assets/colab-badge.svg\" alt=\"Open In Colab\"/></a>"
      ]
    },
    {
      "cell_type": "code",
      "execution_count": 1,
      "metadata": {
        "colab": {
          "base_uri": "https://localhost:8080/"
        },
        "id": "1ulbaMVhhUGU",
        "outputId": "97a20737-fce6-4fb9-bb09-c98105cd7a19"
      },
      "outputs": [
        {
          "output_type": "stream",
          "name": "stdout",
          "text": [
            "Enter the temperature value: 30\n",
            "Enter the unit of the temperature (C, F, K): F\n",
            "30.0°F is -1.11°C and 272.04K\n"
          ]
        }
      ],
      "source": [
        "def celsius_to_fahrenheit(celsius):\n",
        "    return (celsius * 9/5) + 32\n",
        "\n",
        "def celsius_to_kelvin(celsius):\n",
        "    return celsius + 273.15\n",
        "\n",
        "def fahrenheit_to_celsius(fahrenheit):\n",
        "    return (fahrenheit - 32) * 5/9\n",
        "\n",
        "def fahrenheit_to_kelvin(fahrenheit):\n",
        "    return fahrenheit_to_celsius(fahrenheit) + 273.15\n",
        "\n",
        "def kelvin_to_celsius(kelvin):\n",
        "    return kelvin - 273.15\n",
        "\n",
        "def kelvin_to_fahrenheit(kelvin):\n",
        "    return celsius_to_fahrenheit(kelvin_to_celsius(kelvin))\n",
        "\n",
        "def convert_temperature(value, unit):\n",
        "    if unit.lower() == 'c':\n",
        "        fahrenheit = celsius_to_fahrenheit(value)\n",
        "        kelvin = celsius_to_kelvin(value)\n",
        "        return f\"{value}°C is {fahrenheit:.2f}°F and {kelvin:.2f}K\"\n",
        "    elif unit.lower() == 'f':\n",
        "        celsius = fahrenheit_to_celsius(value)\n",
        "        kelvin = fahrenheit_to_kelvin(value)\n",
        "        return f\"{value}°F is {celsius:.2f}°C and {kelvin:.2f}K\"\n",
        "    elif unit.lower() == 'k':\n",
        "        celsius = kelvin_to_celsius(value)\n",
        "        fahrenheit = kelvin_to_fahrenheit(value)\n",
        "        return f\"{value}K is {celsius:.2f}°C and {fahrenheit:.2f}°F\"\n",
        "    else:\n",
        "        return \"Invalid unit. Please enter 'C' for Celsius, 'F' for Fahrenheit, or 'K' for Kelvin.\"\n",
        "\n",
        "def main():\n",
        "    temp_value = float(input(\"Enter the temperature value: \"))\n",
        "    temp_unit = input(\"Enter the unit of the temperature (C, F, K): \")\n",
        "    result = convert_temperature(temp_value, temp_unit)\n",
        "    print(result)\n",
        "\n",
        "if __name__ == \"__main__\":\n",
        "    main()"
      ]
    }
  ]
}